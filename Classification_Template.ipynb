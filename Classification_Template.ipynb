{
 "cells": [
  {
   "cell_type": "markdown",
   "metadata": {},
   "source": [
    "# Perform Topic Extraction and Multi Label Classification"
   ]
  },
  {
   "cell_type": "code",
   "execution_count": null,
   "metadata": {},
   "outputs": [],
   "source": [
    "import pandas as pd \n",
    "from openai import OpenAI\n",
    "import keyring\n",
    "from typing import List, Union, Dict\n",
    "\n",
    "import re\n",
    "import time\n",
    "\n",
    "import datetime\n",
    "date = datetime.datetime.now().strftime(\"%Y-%m-%d\")\n",
    "\n",
    "from Classification_Helpers import (shuffle_extract, shuffle_extract_w_defs,\n",
    "                                    wide_encode_output, getNumTokens, \n",
    "                                    get_binary_counts, get_topic_counts, get_wide_net_binary,\n",
    "                                    get_running_cost, multiclassifyVerbatim, multiclassifyVerbatimwDefs\n",
    "                                )"
   ]
  },
  {
   "cell_type": "markdown",
   "metadata": {},
   "source": [
    "### Setting up OpenAI API Key\n",
    "\n",
    "For each new project, make sure there is a new Project set up in the OpenAI NAXION organization.\n",
    "\n",
    "  - Create a new API key for yourself in the project.\n",
    "  - Store the API in Windows Credentials with the following naming scheme\n",
    "    - Address: OPENAI_KEY_{JOB #}\n",
    "    - Username: {JOB #}\n",
    "    - Password: {API KEY}"
   ]
  },
  {
   "cell_type": "code",
   "execution_count": null,
   "metadata": {},
   "outputs": [],
   "source": [
    "# Establishing api connection to OpenAI\n",
    "key = \"DEVELOPMENT\"\n",
    "client = OpenAI(api_key=keyring.get_password(f\"OPENAI_KEY_{key}\", key))"
   ]
  },
  {
   "cell_type": "markdown",
   "metadata": {},
   "source": [
    "# Preprocessing Data\n",
    "\n",
    "Here we need to load in the data and get it into the proper format for the extraction and classification. This could be a different process for every new project since data is always different."
   ]
  },
  {
   "cell_type": "code",
   "execution_count": null,
   "metadata": {},
   "outputs": [],
   "source": [
    "input_df = pd.read_csv('Input_Data/Verbatims.csv')\n",
    "\n",
    "# Rename ID to NAID\n",
    "input_df.rename(columns={'ID': 'NAID'}, inplace=True)"
   ]
  },
  {
   "cell_type": "code",
   "execution_count": null,
   "metadata": {},
   "outputs": [],
   "source": [
    "cols = input_df.drop([\"NAID\"], axis = 1).columns.tolist()\n",
    "cols"
   ]
  },
  {
   "cell_type": "code",
   "execution_count": null,
   "metadata": {},
   "outputs": [],
   "source": [
    "# Set extra context for the question\n",
    "q_context = {\n",
    "    \"Q5a\": \"Respondents were asked to identify the company/provider and Large Language Model (LLM) they find the most relevant and to provide a brief explanation for their choice. These are the explanations provided by the respondents.\",\n",
    "    \"Q5b\": \"Respondents were asked to identify the company/provider and Large Language Model (LLM) they find the least relevant and to provide a brief explanation for their choice. These are the explanations provided by the respondents.\"\n",
    "}"
   ]
  },
  {
   "cell_type": "code",
   "execution_count": null,
   "metadata": {},
   "outputs": [],
   "source": [
    "for col in cols:\n",
    "    vals = input_df[col].dropna()\n",
    "    print(f\"{col}: {len(vals)}\")\n",
    "    num_tokens = getNumTokens(\"|\".join(vals))\n",
    "    print(f\"Tokens: {num_tokens}\")"
   ]
  },
  {
   "cell_type": "markdown",
   "metadata": {},
   "source": [
    "# Topic Extraction"
   ]
  },
  {
   "cell_type": "code",
   "execution_count": null,
   "metadata": {},
   "outputs": [],
   "source": [
    "topics_dict = {}"
   ]
  },
  {
   "cell_type": "code",
   "execution_count": null,
   "metadata": {},
   "outputs": [],
   "source": [
    "start_time = time.time()\n",
    "for col in cols:\n",
    "    q_time = time.time()\n",
    "    normal_context = q_context[col]\n",
    "    print(f'Context: {normal_context}')\n",
    "    \n",
    "    topics_1 = shuffle_extract(client, input_df, col, 40, normal_context)\n",
    "    topics_2 = shuffle_extract(client, input_df, col, 40, normal_context)\n",
    "    topics_3 = shuffle_extract(client, input_df, col, 40, normal_context)\n",
    "    \n",
    "    topics_dict[col] = {\n",
    "        'Topics_1' : topics_1,\n",
    "        'Topics_2' : topics_2,\n",
    "        'Topics_3' : topics_3\n",
    "    }\n",
    "    \n",
    "    print(f\"Time for {col}: {round((time.time() - q_time) / 60,2)} minutes\\n\")\n",
    "print(\"-\" * 50)\n",
    "print(f\"Total time: {round((time.time() - start_time) / 60,2)} minutes\")"
   ]
  },
  {
   "cell_type": "markdown",
   "metadata": {},
   "source": [
    "## Saving to Excel"
   ]
  },
  {
   "cell_type": "code",
   "execution_count": null,
   "metadata": {},
   "outputs": [],
   "source": [
    "# Write Staff results to an excel file in different sheets\n",
    "with pd.ExcelWriter('Output/Topics/Topics_Extracted.xlsx') as writer:\n",
    "    for col, dict in topics_dict.items():\n",
    "        df = pd.DataFrame(dict)\n",
    "        df.to_excel(writer, sheet_name=col, index=False)\n",
    "        worksheet = writer.sheets[col]\n",
    "        # set all columns to have width of 50\n",
    "        worksheet.set_column('A:C', 50)\n",
    "    writer.save()"
   ]
  },
  {
   "cell_type": "markdown",
   "metadata": {},
   "source": [
    "# Multilabel Classification"
   ]
  },
  {
   "cell_type": "code",
   "execution_count": null,
   "metadata": {},
   "outputs": [],
   "source": [
    "def write_to_excel(path, dfs, topics_list, net_groups, tab_colors = None):\n",
    "\n",
    "    # Write to excel with each sheet being a different format\n",
    "    with pd.ExcelWriter(path) as writer:\n",
    "        workbook = writer.book\n",
    "\n",
    "        # Create text wrap format\n",
    "        text_wrap = workbook.add_format({'text_wrap': True})\n",
    "        center_wrap = workbook.add_format({'text_wrap': True, 'valign': 'vcenter', 'align': 'center'})\n",
    "        center_wrap_blue = workbook.add_format({'text_wrap': True, 'valign': 'vcenter', 'align': 'center', 'bg_color': '#009999'})\n",
    "        # Create a format for the question (centered and bold)\n",
    "        format_q = writer.book.add_format({'align': 'center', 'valign': 'vcenter', 'bold': True})\n",
    "        \n",
    "        for df_name, df in dfs.items():\n",
    "            print(df_name)\n",
    "            question = df_name.split('_')[0]\n",
    "            \n",
    "            topics = topics_list[question]\n",
    "            \n",
    "            # Replace smart quotes (/') with regular quotes\n",
    "            df = df.replace({\"/'\": \"'\", \"_x000D_\": \"\", \"\\\\n\": \"|\"}, regex=True)         \n",
    "            # Raw\n",
    "            df.to_excel(writer, sheet_name=f'{df_name}_raw', index=False, startrow=1)\n",
    "            n_cols_raw = df.shape[1]\n",
    "            worksheet_raw = writer.sheets[f'{df_name}_raw']\n",
    "            worksheet_raw.set_column('A:A', 15, center_wrap)\n",
    "            worksheet_raw.set_column('B:B', 50, text_wrap)\n",
    "            worksheet_raw.set_column(f'C:{chr(65 + n_cols_raw - 1)}', 35, center_wrap)\n",
    "            worksheet_raw.freeze_panes(2, 2)  # Freeze first 2 rows and first 2 columns.\\n\",\n",
    "            worksheet_raw.merge_range(0, 0, 0, len(df.columns) - 1, agent_qs[question], format_q) # Add the question as the first row and merge the cells horizontally \n",
    "            \n",
    "            # Counts\n",
    "            topic_counts = get_topic_counts(df).reset_index(drop=False).rename(columns={'index': 'Topics'})\n",
    "            topic_counts.to_excel(writer, sheet_name=f'{df_name}_counts', index=False)\n",
    "            worksheet_counts = writer.sheets[f'{df_name}_counts']\n",
    "            worksheet_counts.set_column('A:A', 50, center_wrap)\n",
    "            worksheet_counts.set_column('B:B', 15, center_wrap)\n",
    "\n",
    "            # Binary\n",
    "            wide_output_binary = wide_encode_output(df, id_cols = ['NAID', question], bin_rank = 'binary') \n",
    "            col_order = ['NAID', question] + [x for x in topics if x in wide_output_binary.columns] + ['Other']  \n",
    "            wide_output_binary[col_order].to_excel(writer, sheet_name=f'{df_name}_granular', index=False)\n",
    "            worksheet_granular = writer.sheets[f'{df_name}_granular']\n",
    "            worksheet_granular.set_column('A:A', 15, center_wrap)\n",
    "            worksheet_granular.set_column('B:B', 50, text_wrap)\n",
    "            n_rows, n_cols = wide_output_binary.shape\n",
    "            worksheet_granular.set_column(2, n_cols-1, 35, center_wrap)\n",
    "            # Add conditional formatting to binary sheet if the value is 1\n",
    "            worksheet_granular.conditional_format(1, 2, n_rows-1, n_cols-1, {'type':     'cell',\n",
    "                                                'criteria': '=',\n",
    "                                                'value':    1,\n",
    "                                                'format':   center_wrap_blue})\n",
    "            worksheet_granular.freeze_panes(1, 2)  # Freeze first row and first 2 columns.\n",
    "            \n",
    "            if net_groups:\n",
    "                # Net Binary\n",
    "                wide_net_binary = get_wide_net_binary(wide_output_binary, question, net_groups[question])\n",
    "                wide_net_binary.to_excel(writer, sheet_name=f'{df_name}_net_binary', index=False)\n",
    "                worksheet_net_binary = writer.sheets[f'{df_name}_net_binary']\n",
    "                worksheet_net_binary.set_column('A:A', 15, center_wrap)\n",
    "                worksheet_net_binary.set_column('B:B', 50, text_wrap)\n",
    "                n_rows, n_cols = wide_net_binary.shape\n",
    "                worksheet_net_binary.set_column(2, n_cols-1, 35, center_wrap)\n",
    "                # Add conditional formatting to binary sheet if the value is 1\n",
    "                worksheet_net_binary.conditional_format(1, 2, n_rows-1, n_cols-1, {'type':     'cell',\n",
    "                                                    'criteria': '=',\n",
    "                                                    'value':    1,\n",
    "                                                    'format':   center_wrap_blue})\n",
    "                worksheet_net_binary.freeze_panes(1, 2)\n",
    "                \n",
    "                # Net Counts\n",
    "                net_counts = get_binary_counts(wide_net_binary)\n",
    "                net_counts.to_excel(writer, sheet_name=f'{df_name}_net_counts', index=False)\n",
    "                worksheet_net_counts = writer.sheets[f'{df_name}_net_counts']\n",
    "                worksheet_net_counts.set_column('A:A', 50, center_wrap)\n",
    "                worksheet_net_counts.set_column('B:B', 15, center_wrap)\n",
    "                worksheet_net_counts.freeze_panes(1, 2)\n",
    "            \n",
    "            \n",
    "            if tab_colors:\n",
    "                color = tab_colors.get(df_name)\n",
    "                worksheet_raw.set_tab_color(color)\n",
    "                worksheet_counts.set_tab_color(color)\n",
    "                worksheet_granular.set_tab_color(color)\n",
    "                \n",
    "                if net_groups:\n",
    "                    worksheet_net_binary.set_tab_color(color)\n",
    "                    worksheet_net_counts.set_tab_color(color)"
   ]
  },
  {
   "cell_type": "markdown",
   "metadata": {},
   "source": [
    "### Final Set of Topics\n",
    "\n",
    "This code chunk is useful if you have copilot. The \"raw q06\" is what the PM provides to me, and the list_topics_106 is the format I want it in. So I keep that as an example and then I can paste the PM input into raw_topics_q39 or wahtever, and copilot will automatically generate the list topics in the output I desire. Then I put it in the list_topics dictionary"
   ]
  },
  {
   "cell_type": "code",
   "execution_count": null,
   "metadata": {},
   "outputs": [],
   "source": [
    "raw_topics_q06 = \"\"\"Remote/Hybrid Work Model: Hybrid work model, Lack of face-to-face time, Virtual connection, In-person connections\n",
    "DE&I: Age diversity, Diversity and inclusion, Diversity in leadership, Inclusivity initiatives, Cultural differences, Bias awareness\n",
    "Employee Training/Development: Mentorship programs, Learning circles, Career development, Professional growth, Leadership development, Professional relationships, Training opportunities, Personal growth opportunities\n",
    "Culture/Values: Company culture, Feedback culture, Family-oriented culture, Cultural fit, Alignment with values, Company values, Traditional family emphasis, Corporate purpose, Open door culture, Collaborative work culture, Cathy family influence, Sense of belonging\n",
    "Employee Well-Being/Care: Employee well-being, Work-life balance, Employee empowerment, Employee engagement, Recognition, Recognition practices\n",
    "Peer practices: Peer relationships, Peer support, Peer interaction, Team interaction\n",
    "Events/Activities: Team retreats, Social activities, In-person events, Cultural cornerstone events\n",
    "Communication: Supervisory communication, Departmental communication, Direct communication\n",
    "Collaboration: Team collaboration, Cross-functional projects, Departmental connection\n",
    "\n",
    "\"\"\"\n",
    "\n",
    "list_topics_q06 = [\"Hybrid work model\", \"Lack of face-to-face time\", \"Virtual connection\", 'In-person connection',\n",
    "               \"Age diversity\", \"Diversity and inclusion\", \"Diversity in leadership\", \"Inclusivity initiatives\", \"Cultural differences\", \"Bias awareness\",\n",
    "               \"Mentorship programs\", \"Learning circles\", \"Career development\", \"Professional growth\", \"Leadership development\", \"Professional relationships\", \"Training opportunities\", \"Personal growth opportunities\",\n",
    "               \"Company culture\", \"Feedback culture\", \"Family-oriented culture\", \"Cultural fit\", \"Alignment with values\", \"Company values\", \"Traditional family emphasis\", \"Corporate purpose\", \"Open door culture\", \"Collaborative work culture\", \"Cathy family influence\", \"Sense of belonging\",\n",
    "               \"Employee well-being\", \"Work-life balance\", \"Employee empowerment\", \"Employee engagement\", \"Recognition\", \"Recognition practices\",\n",
    "               \"Peer relationships\", \"Peer support\", \"Peer interaction\", \"Team interaction\",\n",
    "               \"Team retreats\", \"Social activities\", \"In-person events\", \"Cultural cornerstone events\",\n",
    "               \"Supervisory communication\", \"Departmental communication\", \"Direct communication\",\n",
    "               \"Team collaboration\", \"Cross-functional projects\", \"Departmental connection\"]\n",
    "\n",
    "raw_topics_q39 = \"\"\"\n",
    "Workload: Work-Life Balance\n",
    "Hybrid/Remote Model: Flexible Future Model, Hybrid Work Challenges, Home Office Setup Support, Traffic and Commute, Remote Work Stipends \n",
    "In-Person/On-site Collaboration: In-Person Collaboration, Team Days Onsite, In-Person Meetings\n",
    "Technology: Remote Work Tools, Technology Upgrades, Meeting Technology Issues, Meeting Room Tech Reliability, Office Technology Consistency, Workplace Technology Consistency\n",
    "Office Design/Management: Private Workspaces, Office Space Availability, Personalized Work Environment, Office Design, Office Amenities, Meeting Room Availability, \n",
    "Meeting Frequency: Meeting Effectiveness, \n",
    "Productivity: Productivity Tools, Staff Training on Productivity, Heads Down Work,\n",
    "Collaboration: Team Connection Days, Teamwork and Collaboration\n",
    "Culture/Values: Cultural Connection,\n",
    "Training/Development: Professional Development\n",
    "Management: Leadership Visibility, Staff Accountability, Team Building, Team Coordination, Team Connection, Defined Goals and Expectations, Communication: Cross-Functional Communication, Clear Communication Channels, Communication Tools, Communication Channels\n",
    "Engagement: Staff Engagement, \n",
    "Cultural Events: Cornerstone Events, Cultural Events\n",
    "Benefits: On-Site Childcare Options\n",
    "*Safety: Workplace Safety\n",
    "\"\"\"\n",
    "\n",
    "list_topics_q39 = [\"Work-Life Balance\", \n",
    "                   \"Flexible Future Model\", \"Hybrid Work Challenges\", \"Home Office Setup Support\", \"Traffic and Commute\", \"Remote Work Stipends\",\n",
    "                   \"In-Person Collaboration\", \"Team Days Onsite\", \"In-Person Meetings\",\n",
    "                   \"Remote Work Tools\", \"Technology Upgrades\", \"Meeting Technology Issues\", \"Meeting Room Tech Reliability\", \"Office Technology Consistency\", \"Workplace Technology Consistency\",\n",
    "                   \"Private Workspaces\", \"Office Space Availability\", \"Personalized Work Environment\", \"Office Design\", \"Office Amenities\", \"Meeting Room Availability\",\n",
    "                   \"Meeting Effectiveness\",\n",
    "                   \"Productivity Tools\", \"Staff Training on Productivity\", \"Heads Down Work\",\n",
    "                   \"Team Connection Days\", \"Teamwork and Collaboration\",\n",
    "                   \"Cultural Connection\",\n",
    "                   \"Professional Development\",\n",
    "                   \"Leadership Visibility\", \"Staff Accountability\", \"Team Building\", \"Team Coordination\", \"Team Connection\", \"Defined Goals and Expectations\", \"Cross-Functional Communication\", \"Clear Communication Channels\", \"Communication Tools\", \"Communication Channels\",\n",
    "                   \"Staff Engagement\",\n",
    "                   \"Cornerstone Events\", \"Cultural Events\",\n",
    "                   \"On-Site Childcare Options\",\n",
    "                   \"Workplace Safety\"]\n"
   ]
  },
  {
   "cell_type": "code",
   "execution_count": null,
   "metadata": {},
   "outputs": [],
   "source": [
    "topics_list ={\n",
    "    \n",
    "    'Q06' : [\"Hybrid work model\", \"Lack of face-to-face time\", \"Virtual connection\", 'In-person connection',\n",
    "               \"Age diversity\", \"Diversity and inclusion\", \"Diversity in leadership\", \"Inclusivity initiatives\", \"Cultural differences\", \"Bias awareness\",\n",
    "               \"Mentorship programs\", \"Learning circles\", \"Career development\", \"Professional growth\", \"Leadership development\", \"Professional relationships\", \"Training opportunities\", \"Personal growth opportunities\",\n",
    "               \"Company culture\", \"Feedback culture\", \"Family-oriented culture\", \"Cultural fit\", \"Alignment with values\", \"Company values\", \"Traditional family emphasis\", \"Corporate purpose\", \"Open door culture\", \"Collaborative work culture\", \"Cathy family influence\", \"Sense of belonging\",\n",
    "               \"Employee well-being\", \"Work-life balance\", \"Employee empowerment\", \"Employee engagement\", \"Recognition\", \"Recognition practices\",\n",
    "               \"Peer relationships\", \"Peer support\", \"Peer interaction\", \"Team interaction\",\n",
    "               \"Team retreats\", \"Social activities\", \"In-person events\", \"Cultural cornerstone events\",\n",
    "               \"Supervisory communication\", \"Departmental communication\", \"Direct communication\",\n",
    "               \"Team collaboration\", \"Cross-functional projects\", \"Departmental connection\"],\n",
    "    'Q39' : [\"Cathy Family Leadership\", \"Biblical Principles\", \"Culture of Care\", \"Generosity and Giving\", \"Corporate Purpose\", \"Prayer and Devotion\", \"Positive Workplace Culture\", \"Purpose-Driven Work\", \"Culture of Hospitality\", \"Volunteerism and Philanthropy\", \"Brand Reputation\", \"Caring Company Reputation\", \"Positive Work Environment\",\n",
    "                \"Ethical Business Practices\", \"Sustainability Efforts\",\n",
    "                \"Cultural Ambassadorship\", \"Cultural Cornerstone Events\",\n",
    "                \"DEI Initiatives\", \"Inclusive Workforce\",\n",
    "                \"Employee Well-being\", \"Employee Benefits\", \"Employee Engagement\", \"Recognition and Rewards\", \"Work-Life Balance\", \"Team Member Recognition\", \"Team Member Support\", \"Health and Wellness Programs\", \"Operator Support\",\n",
    "                \"Team Member Development\", \"Professional Development\", \"Professional Growth\", \"Leadership Development\", \"Staff Development Opportunities\",\n",
    "                \"Community Service\",\n",
    "                \"Remote Work Support\", \"Flexible Work Environment\",\n",
    "                \"Customer Care Initiatives\", \"Customer Service Excellence\", \"Customer Feedback\", \"Growth and Adaptation\", \"Continuous Improvement\", \"Innovation and Growth\", \"Cultural Adaptation\", \"Cultural Drift Concerns\",\n",
    "                \"Employee Feedback Mechanisms\", \"Transparent Communication\",\n",
    "                \"Purpose-Driven Hiring\",\n",
    "                \"Employee Onboarding Experience\",\n",
    "                \"Team Collaboration\", \"Collaborative Culture\",\n",
    "                \"Strategic Priorities\", \"Strategic Decision Making\", \"Scholarship Programs\",\n",
    "                \"Servant Leadership\", \"Caring Leadership\", \"Stewardship of Resources\"],\n",
    "    'Q40' : [\"DE&I Initiatives\",\n",
    "              \"Remote Work, Flexible Futures Model\",\n",
    "              \"Staff Onboarding\", \"Essentials Program\",\n",
    "              \"Cathy Family Involvement\", \"Truett's Legacy\",\n",
    "              \"Core Values\", \"Corporate Purpose\", \"Cultural Reinforcement\", \"Cultural Consistency\", \"Biblical Principles\", \"Purpose-Driven Work\", \"Cultural Storytelling\", \"Cultural Cornerstones\", \"Staff Accountability\",\n",
    "              \"Cultural Celebrations\", \"Cultural Events\", \"Cultural Cornerstone Events\", \"Cultural Ambassadors\", \"Cultural Adaptation\", \"Founder's Day\", \"Staff Summit\", \"NEXT\",\n",
    "              \"Cultural Fit\", \"Hiring Practices\", \"Cultural Training\", \"Talent Selection\",\n",
    "              \"Team Member Support\", \"Staff Care\", \"Team Member Care\", \"Employee Well-being\", \"Work-Life Balance\", \"Employee Empowerment\", \"Employee Recognition\", \"Team Retreats\", \"Employee Benefits\",\n",
    "              \"Community Service\", \"Community Engagement\", \"Staff-Community Engagement\",\n",
    "              \"Employee Feedback\", \"Employee Development\", \"Mentorship Programs\", \"Leadership Development\", \"Team Development\", \"Accountability & Feedback\", \"Recognition Programs\", \"Personal Connection Opportunities\", \"Professional Development\",\n",
    "              \"Transparent Communication\", \"Transparency in Decision Making\",\n",
    "              \"Customer Focus\", \"Customer Experience\",\n",
    "              \"Operator Engagement\", \"Staff-Operator Connection\"]\n",
    "}"
   ]
  },
  {
   "cell_type": "markdown",
   "metadata": {},
   "source": [
    "### Perform the Classification"
   ]
  },
  {
   "cell_type": "code",
   "execution_count": null,
   "metadata": {},
   "outputs": [],
   "source": [
    "classified_dfs = {}"
   ]
  },
  {
   "cell_type": "code",
   "execution_count": null,
   "metadata": {},
   "outputs": [],
   "source": [
    "start_time = time.time()\n",
    "start_cost = get_running_cost()\n",
    "\n",
    "for question in cols:\n",
    "    q_time = time.time()\n",
    "    q_cost = get_running_cost()\n",
    "    print(f'\\n\\nQuestion {question}')\n",
    "    \n",
    "    \n",
    "    df = input_df.loc[:,['NAID', question]].dropna().reset_index(drop=True)\n",
    "    \n",
    "    print(f'Number of Verbatims: {df.shape[0]}')\n",
    "    print('---------------------------------')\n",
    "    \n",
    "    context = q_context[question]\n",
    "    topics = sorted(cols[question])\n",
    "    \n",
    "    raw_labels: pd.DataFrame = df.apply(lambda row: multiclassifyVerbatim(client, row[question], topics= topics, \n",
    "                                                                        context=context, \n",
    "                                                                        id=row['NAID'], i=row.name, max_labels=3, n_resp = 1), axis=1)\n",
    "    \n",
    "    raw_labels_df = pd.concat(raw_labels.to_list(), ignore_index=True).rename(columns={'ID': 'NAID'})\n",
    "\n",
    "    classified_dfs[question] = pd.merge(df, raw_labels_df)\n",
    "    classified_dfs[question].to_pickle(f'Output/Pickles/Topics_Classified_{question}_{date}.pkl')\n",
    "    \n",
    "    print('---------------------------------')\n",
    "    print(f'Question {question} took {time.time() - q_time:.2f} seconds')\n",
    "    print(f'Cost of Question {question}: ${get_running_cost() - q_cost:.2f}')\n",
    "\n",
    "\n",
    "print(f'\\n\\n\\nTotal Time: {time.time() - start_time:.2f} seconds')\n",
    "print(f'Total Cost: ${get_running_cost() - start_cost:.2f}')"
   ]
  },
  {
   "cell_type": "code",
   "execution_count": null,
   "metadata": {},
   "outputs": [],
   "source": [
    "# ldate = '2024-02-15'\n",
    "# for question in cols + ['Q02a_Agree', 'Q02a_Disagree', 'Q04a_Agree', 'Q04a_Disagree', 'Q07a_Agree', 'Q07a_Disagree', 'Q09a_Agree', 'Q09a_Disagree', 'Q15_Paycheck', 'Q15_Passion', 'Q15_Neutral']:\n",
    "#     staff_classified_dfs[question] = pd.read_pickle(f'Output/Pickles/Staff_Topics_Classified_{question}_{ldate}.pkl')"
   ]
  },
  {
   "cell_type": "code",
   "execution_count": null,
   "metadata": {},
   "outputs": [],
   "source": [
    "write_to_excel(f'Output/Labels/Topics_Classified_{date}.xlsx', classified_dfs, topics_list)"
   ]
  },
  {
   "cell_type": "markdown",
   "metadata": {},
   "source": [
    "## Perform Classification with Defintions"
   ]
  },
  {
   "cell_type": "code",
   "execution_count": null,
   "metadata": {},
   "outputs": [],
   "source": [
    "topics_defs_dict = {\n",
    "    \"Q5a\": {\n",
    "        \"Compensation Concerns\": \"\",\n",
    "        \"Commision Structure\": \"\",\n",
    "        \"Receiving Leads Concerns\": \"\",\n",
    "        \"Prospecting\": \"Anything related to prospecting, client acquisition, generating new business or competition.\",\n",
    "        \"Challenging Job/ Challenging Market\": \"\",\n",
    "        \"Client Experience Issues\": \"\",\n",
    "        \"Client Onboarding/Application Challenges\": \"Anything related to complexity in the client's application, e-app process, or onboarding.\",\n",
    "        \"Client Communication\": \"Anything related to challenges with communicating with the client, including platforms that allow for securely sharing documents.\",\n",
    "        \"Client Service Delays\": \"\",\n",
    "        \"Client Retention Strategies\": \"Anything related to retention of Clients, should not include retention of Agents.\",\n",
    "        \"Client Relationship Management\": \"\",\n",
    "        \"Client Trust Building\": \"\",\n",
    "        \"Inconsistent Information from Service Center\": \"\",\n",
    "        \"Service Center Inefficiency/Issues\": \"Anything related to the Service Center causing inefficiencies, delays, or other problems.\",\n",
    "        \"Marketing Support\": \"Challenges related to digital marketing, local marketing, and product marketing support.\",\n",
    "        \"Lack of Agent Support\": \"General lack of agent support, including challenges with agent resource allocation.\",\n",
    "        \"Sales Strategy Support\": \"Include sales strategy and business growth support.\",\n",
    "        \"Concerns With GO\": \"GO refers to the local office or the leadership based at that office. Include any negative concerns with the GO, office environment or GO staff/leadership.\",\n",
    "        \"Underwriting Process Concerns\": \"Any challenges related to the underwriting or application approval process, including delays.\",\n",
    "        \"High Underwriting Standards\": \"High underwriting standards includes declinations, rejections, or overly strict approvals for new business/clients.\",\n",
    "        \"Difficulties With Financial Products\": \"Financial products includes mentions of general financial products, annuities, mutual funds, investments. This should not include references to life products -- it must mention financial products.\",\n",
    "        \"Product Pricing\": \"\",\n",
    "        \"Product Competitiveness\": \"\",\n",
    "        \"Technology/Platform Issues\": \"\",\n",
    "        \"Portal Concerns\": \"\",\n",
    "        \"Service Form E-Signature Limitations\": \"Include challenges with e-signatures and wet signatures.\",\n",
    "        \"System Complexity/Concerns Navigating Systems\": \"Challenges with systems being overly complex, concerns with not understanding the systems or inability to navigate the systems.\",\n",
    "        \"System Integration Concerns\": \"\",\n",
    "        \"Redundant Processes\": \"References to redundant processes or redundant systems/platforms.\",\n",
    "        \"Operational Inefficiency\": \"\",\n",
    "        \"Operational Errors\": \"Mentions of operational errors or operational error resolution issues.\",\n",
    "        \"Marketing Restrictions\": \"\",\n",
    "        \"SMRU\": \"\",\n",
    "        \"Compliance Challenges\": \"\",\n",
    "        \"Paperwork Requirements\": \"\",\n",
    "        \"Training Gaps\": \"Includes general or non-specific mentions of not feeling sufficiently trained.\",\n",
    "        \"Product Training\": \"Includes mentions of life or financial product training specifically.\",\n",
    "        \"Agent Technology Training\": \"Includes mentions of technology, system, or platform training for the Agent specifically.\",\n",
    "        \"Service Team Training\": \"Includes mention of the Service or Service Center team needing more training.\",\n",
    "        \"Lack of Communication\": \"\",\n",
    "        \"Lack of Agent Collaboration\": \"Lack of agent collaboration should also include mentions of agent networking concerns.\"\n",
    "        }\n",
    "}\n",
    "\n",
    "\n",
    "net_groups = {\n",
    "    \"Q5a\": {\n",
    "        'Agent Compensation': ['Compensation Concerns', 'Commision Structure'],\n",
    "        'New Business': ['Receiving Leads Concerns', 'Prospecting', 'Challenging Job/ Challenging Market'],\n",
    "        'Client Servicing': ['Client Experience Issues', 'Client Onboarding/Application Challenges', 'Client Communication', 'Client Service Delays'],\n",
    "        'Client Retention/Managing Client Relationship': ['Client Retention Strategies', 'Client Relationship Management', 'Client Trust Building'],\n",
    "        'Service Center': ['Inconsistent Information from Service Center', 'Service Center Inefficiency/Issues'],\n",
    "        'Support': ['Marketing Support', 'Lack of Agent Support', 'Sales Strategy Support', 'Concerns With GO'],\n",
    "        'Underwriting': ['Underwriting Process Concerns', 'High Underwriting Standards'],\n",
    "        'Product': ['Difficulties With Financial Products', 'Product Pricing', 'Product Competitiveness'],\n",
    "        'Technology': ['Technology/Platform Issues', 'Portal Concerns', 'Service Form E-Signature Limitations', 'System Complexity/Concerns Navigating Systems', 'System Integration Concerns'],\n",
    "        'Efficiency': ['Redundant Processes', 'Operational Inefficiency', 'Operational Errors'],\n",
    "        'Compliance': ['Marketing Restrictions', 'SMRU', 'Compliance Challenges', 'Paperwork Requirements'],\n",
    "        'Training': ['Training Gaps', 'Product Training', 'Agent Technology Training', 'Service Team Training'],\n",
    "        'Communication': ['Lack of Communication'],\n",
    "        'Agent-Agent Relationship': ['Lack of Agent Collaboration'],\n",
    "        'Other': ['Other']\n",
    "    }\n",
    "}"
   ]
  },
  {
   "cell_type": "code",
   "execution_count": null,
   "metadata": {},
   "outputs": [],
   "source": [
    "topics_for_defs = {k: list(topics_defs_dict[k].keys()) for k in topics_defs_dict.keys()}\n",
    "\n",
    "# Remake the topics_dict_w_defs with the definitions with only topics that are not empty\n",
    "topics_dict_w_defs = {K: {k: v for k, v in v.items() if v} for K, v in topics_defs_dict.items()}"
   ]
  },
  {
   "cell_type": "code",
   "execution_count": null,
   "metadata": {},
   "outputs": [],
   "source": [
    "c_w_defs = {}"
   ]
  },
  {
   "cell_type": "code",
   "execution_count": null,
   "metadata": {},
   "outputs": [],
   "source": [
    "start_time = time.time()\n",
    "start_cost = get_running_cost()\n",
    "\n",
    "for question in cols:\n",
    "    q_time = time.time()\n",
    "    q_cost = get_running_cost()\n",
    "    print(f'\\n\\nQuestion {question}')\n",
    "    \n",
    "    \n",
    "    df = input_df.loc[:,['NAID', question]].dropna().reset_index(drop=True)\n",
    "    \n",
    "    print(f'Number of Verbatims: {df.shape[0]}')\n",
    "    print('---------------------------------')\n",
    "    \n",
    "    context = q_context[question] \n",
    "    # additional_context = \"Only classify topics if the response is negative towards or identifies a concern, problem, or challenge related to them. Positve or neutral responses should not be classified into the topic.\" if question == 'Q5a' else None \n",
    "    additional_context = \"\"\n",
    "        \n",
    "    topics = topics_for_defs[question]\n",
    "    defs = topics_defs_dict[question]\n",
    "    \n",
    "    raw_labels: pd.DataFrame = df.apply(lambda row: multiclassifyVerbatimwDefs(client, row[question], topics= topics, defs=defs,\n",
    "                                                                        context=context, additional_context=additional_context, model='gpt-4o',\n",
    "                                                                        id=row['NAID'], i=row.name, max_labels=3, n_resp = 1), axis=1)\n",
    "    \n",
    "    raw_labels_df = pd.concat(raw_labels.to_list(), ignore_index=True).rename(columns={'ID': 'NAID'})\n",
    "\n",
    "    c_w_defs[question] = pd.merge(df, raw_labels_df)\n",
    "    c_w_defs[question].to_pickle(f'Output/Pickles/Topics_Classified_W_Defs_{question}_{date}.pkl')\n",
    "    \n",
    "    print('---------------------------------')\n",
    "    print(f'Question {question} took {(time.time() - q_time) / 60:.2f} minutes')\n",
    "    print(f'Cost of Question {question}: ${get_running_cost() - q_cost:.2f}')\n",
    "\n",
    "\n",
    "print(f'\\n\\n\\nTotal Time: {(time.time() - start_time) / 60:.2f} minutes')\n",
    "print(f'Total Cost: ${get_running_cost() - start_cost:.2f}')"
   ]
  },
  {
   "cell_type": "code",
   "execution_count": null,
   "metadata": {},
   "outputs": [],
   "source": [
    "write_to_excel(f'Output/Labels/{key}_Topics_Classified_w_Defs_and_Net_Counts_{date}.xlsx', c_w_defs, topics_for_defs, net_groups, {'Q5a': '#FFCC99'})"
   ]
  }
 ],
 "metadata": {
  "kernelspec": {
   "display_name": "Python 3",
   "language": "python",
   "name": "python3"
  },
  "language_info": {
   "codemirror_mode": {
    "name": "ipython",
    "version": 3
   },
   "file_extension": ".py",
   "mimetype": "text/x-python",
   "name": "python",
   "nbconvert_exporter": "python",
   "pygments_lexer": "ipython3",
   "version": "3.9.13"
  }
 },
 "nbformat": 4,
 "nbformat_minor": 2
}
