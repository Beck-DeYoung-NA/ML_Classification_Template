{
 "cells": [
  {
   "cell_type": "markdown",
   "metadata": {},
   "source": [
    "# Perform Topic Extraction and Multi Label Classification"
   ]
  },
  {
   "cell_type": "code",
   "execution_count": 2,
   "metadata": {},
   "outputs": [],
   "source": [
    "import pandas as pd \n",
    "from openai import OpenAI\n",
    "import keyring\n",
    "from typing import List, Union, Dict\n",
    "\n",
    "import re\n",
    "import time\n",
    "\n",
    "import datetime\n",
    "date = datetime.datetime.now().strftime(\"%Y-%m-%d\")\n",
    "\n",
    "from Classification_Helpers import (shuffle_extract, shuffle_extract_w_defs,\n",
    "                                    wide_encode_output, getNumTokens, \n",
    "                                    get_running_cost, multiclassifyVerbatim, multiclassifyVerbatimwDefs\n",
    "                                )"
   ]
  },
  {
   "cell_type": "markdown",
   "metadata": {},
   "source": [
    "### Setting up OpenAI API Key\n",
    "\n",
    "For each new project, make sure there is a new Project set up in the OpenAI NAXION organization.\n",
    "\n",
    "  - Create a new API key for yourself in the project.\n",
    "  - Store the API in Windows Credentials with the following naming scheme\n",
    "    - Address: OPENAI_KEY_{JOB #}\n",
    "    - Username: {JOB #}\n",
    "    - Password: {API KEY}"
   ]
  },
  {
   "cell_type": "code",
   "execution_count": 4,
   "metadata": {},
   "outputs": [],
   "source": [
    "# Establishing api connection to OpenAI\n",
    "key = \"DEVELOPMENT\"\n",
    "client = OpenAI(api_key=keyring.get_password(f\"OPENAI_KEY_{key}\", key))"
   ]
  },
  {
   "cell_type": "markdown",
   "metadata": {},
   "source": [
    "# Preprocessing Data\n",
    "\n",
    "Here we need to load in the data and get it into the proper format for the extraction and classification. This could be a different process for every new project since data is always different."
   ]
  },
  {
   "cell_type": "code",
   "execution_count": 9,
   "metadata": {},
   "outputs": [],
   "source": [
    "input_df = pd.read_csv('Input_Data/Verbatims.csv')\n",
    "\n",
    "# Rename ID to NAID\n",
    "input_df.rename(columns={'ID': 'NAID'}, inplace=True)"
   ]
  },
  {
   "cell_type": "code",
   "execution_count": 10,
   "metadata": {},
   "outputs": [
    {
     "data": {
      "text/plain": [
       "['Verbatim']"
      ]
     },
     "execution_count": 10,
     "metadata": {},
     "output_type": "execute_result"
    }
   ],
   "source": [
    "cols = input_df.drop([\"NAID\"], axis = 1).columns.tolist()\n",
    "cols"
   ]
  },
  {
   "cell_type": "code",
   "execution_count": null,
   "metadata": {},
   "outputs": [],
   "source": [
    "# Set extra context for the question\n",
    "q_context = {\n",
    "    \"Q5a\": \"Respondents were asked to identify the company/provider and Large Language Model (LLM) they find the most relevant and to provide a brief explanation for their choice. These are the explanations provided by the respondents.\",\n",
    "    \"Q5b\": \"Respondents were asked to identify the company/provider and Large Language Model (LLM) they find the least relevant and to provide a brief explanation for their choice. These are the explanations provided by the respondents.\"\n",
    "}"
   ]
  },
  {
   "cell_type": "code",
   "execution_count": 11,
   "metadata": {},
   "outputs": [
    {
     "name": "stdout",
     "output_type": "stream",
     "text": [
      "Verbatim: 162\n",
      "Tokens: 3300\n"
     ]
    }
   ],
   "source": [
    "for col in cols:\n",
    "    vals = input_df[col].dropna()\n",
    "    print(f\"{col}: {len(vals)}\")\n",
    "    num_tokens = getNumTokens(\"|\".join(vals))\n",
    "    print(f\"Tokens: {num_tokens}\")"
   ]
  },
  {
   "cell_type": "markdown",
   "metadata": {},
   "source": [
    "# Topic Extraction"
   ]
  },
  {
   "cell_type": "code",
   "execution_count": null,
   "metadata": {},
   "outputs": [],
   "source": [
    "topics_dict = {}"
   ]
  },
  {
   "cell_type": "code",
   "execution_count": null,
   "metadata": {},
   "outputs": [],
   "source": [
    "start_time = time.time()\n",
    "for col in cols[1:]:\n",
    "    q_time = time.time()\n",
    "    normal_context = q_context[col]\n",
    "    print(f'Context: {normal_context}')\n",
    "    \n",
    "    topics_1 = shuffle_extract(client, input_df, col, 40, normal_context)\n",
    "    topics_2 = shuffle_extract(client, input_df, col, 40, normal_context)\n",
    "    topics_3 = shuffle_extract(client, input_df, col, 40, normal_context)\n",
    "    \n",
    "    topics_dict[col] = {\n",
    "        'Topics_1' : topics_1,\n",
    "        'Topics_2' : topics_2,\n",
    "        'Topics_3' : topics_3\n",
    "    }\n",
    "    \n",
    "    print(f\"Time for {col}: {round((time.time() - q_time) / 60,2)} minutes\\n\")\n",
    "print(\"-\" * 50)\n",
    "print(f\"Total time: {round((time.time() - start_time) / 60,2)} minutes\")"
   ]
  },
  {
   "cell_type": "markdown",
   "metadata": {},
   "source": [
    "## Saving to Excel"
   ]
  },
  {
   "cell_type": "code",
   "execution_count": null,
   "metadata": {},
   "outputs": [],
   "source": [
    "# Write Staff results to an excel file in different sheets\n",
    "with pd.ExcelWriter('Output/Topics/Topics_Extracted.xlsx') as writer:\n",
    "    for col, dict in topics_dict.items():\n",
    "        df = pd.DataFrame(dict)\n",
    "        df.to_excel(writer, sheet_name=col, index=False)\n",
    "        worksheet = writer.sheets[col]\n",
    "        # set all columns to have width of 50\n",
    "        worksheet.set_column('A:C', 50)\n",
    "    writer.save()"
   ]
  },
  {
   "cell_type": "markdown",
   "metadata": {},
   "source": [
    "# Multilabel Classification"
   ]
  },
  {
   "cell_type": "code",
   "execution_count": null,
   "metadata": {},
   "outputs": [],
   "source": [
    "def write_to_excel(path, dfs, topics_list):\n",
    "\n",
    "    # Write to excel with each sheet being a different format\n",
    "    with pd.ExcelWriter(path) as writer:\n",
    "        workbook = writer.book\n",
    "\n",
    "        # Create text wrap format\n",
    "        text_wrap = workbook.add_format({'text_wrap': True})\n",
    "        center_wrap = workbook.add_format({'text_wrap': True, 'valign': 'vcenter', 'align': 'center'})\n",
    "        center_wrap_blue = workbook.add_format({'text_wrap': True, 'valign': 'vcenter', 'align': 'center', 'bg_color': '#009999'})\n",
    "        \n",
    "        for df_name, df in dfs.items():\n",
    "            print(df_name)\n",
    "            question = df_name.split('_')[0]\n",
    "            \n",
    "            topics = topics_list[question]\n",
    "\n",
    "            wide_output_binary = wide_encode_output(df, id_cols = ['NAID', question], bin_rank = 'binary') \n",
    "            col_order = ['NAID', question] + [x for x in topics if x in wide_output_binary.columns] + ['Other']  \n",
    "            wide_output_binary[col_order].to_excel(writer, sheet_name=df_name, index=False)\n",
    "            worksheet = writer.sheets[df_name]\n",
    "            worksheet.set_column('A:A', 15, center_wrap)\n",
    "            worksheet.set_column('B:B', 50, text_wrap)\n",
    "            n_rows, n_cols = wide_output_binary.shape\n",
    "            worksheet.set_column(2, n_cols-1, 35, center_wrap)\n",
    "            # Add conditional formatting to binary sheet if the value is 1\n",
    "            worksheet.conditional_format(2, 2, n_rows-1, n_cols-1, {'type':     'cell',\n",
    "                                                'criteria': '=',\n",
    "                                                'value':    1,\n",
    "                                                'format':   center_wrap_blue})\n",
    "            worksheet.freeze_panes(1, 2)  # Freeze first row and first 2 columns.\n",
    "    "
   ]
  },
  {
   "cell_type": "markdown",
   "metadata": {},
   "source": [
    "### Final Set of Topics\n",
    "\n",
    "This code chunk is useful if you have copilot. The \"raw q06\" is what the PM provides to me, and the list_topics_106 is the format I want it in. So I keep that as an example and then I can paste the PM input into raw_topics_q39 or wahtever, and copilot will automatically generate the list topics in the output I desire. Then I put it in the list_topics dictionary"
   ]
  },
  {
   "cell_type": "code",
   "execution_count": null,
   "metadata": {},
   "outputs": [],
   "source": [
    "raw_topics_q06 = \"\"\"Remote/Hybrid Work Model: Hybrid work model, Lack of face-to-face time, Virtual connection, In-person connections\n",
    "DE&I: Age diversity, Diversity and inclusion, Diversity in leadership, Inclusivity initiatives, Cultural differences, Bias awareness\n",
    "Employee Training/Development: Mentorship programs, Learning circles, Career development, Professional growth, Leadership development, Professional relationships, Training opportunities, Personal growth opportunities\n",
    "Culture/Values: Company culture, Feedback culture, Family-oriented culture, Cultural fit, Alignment with values, Company values, Traditional family emphasis, Corporate purpose, Open door culture, Collaborative work culture, Cathy family influence, Sense of belonging\n",
    "Employee Well-Being/Care: Employee well-being, Work-life balance, Employee empowerment, Employee engagement, Recognition, Recognition practices\n",
    "Peer practices: Peer relationships, Peer support, Peer interaction, Team interaction\n",
    "Events/Activities: Team retreats, Social activities, In-person events, Cultural cornerstone events\n",
    "Communication: Supervisory communication, Departmental communication, Direct communication\n",
    "Collaboration: Team collaboration, Cross-functional projects, Departmental connection\n",
    "\n",
    "\"\"\"\n",
    "\n",
    "list_topics_q06 = [\"Hybrid work model\", \"Lack of face-to-face time\", \"Virtual connection\", 'In-person connection',\n",
    "               \"Age diversity\", \"Diversity and inclusion\", \"Diversity in leadership\", \"Inclusivity initiatives\", \"Cultural differences\", \"Bias awareness\",\n",
    "               \"Mentorship programs\", \"Learning circles\", \"Career development\", \"Professional growth\", \"Leadership development\", \"Professional relationships\", \"Training opportunities\", \"Personal growth opportunities\",\n",
    "               \"Company culture\", \"Feedback culture\", \"Family-oriented culture\", \"Cultural fit\", \"Alignment with values\", \"Company values\", \"Traditional family emphasis\", \"Corporate purpose\", \"Open door culture\", \"Collaborative work culture\", \"Cathy family influence\", \"Sense of belonging\",\n",
    "               \"Employee well-being\", \"Work-life balance\", \"Employee empowerment\", \"Employee engagement\", \"Recognition\", \"Recognition practices\",\n",
    "               \"Peer relationships\", \"Peer support\", \"Peer interaction\", \"Team interaction\",\n",
    "               \"Team retreats\", \"Social activities\", \"In-person events\", \"Cultural cornerstone events\",\n",
    "               \"Supervisory communication\", \"Departmental communication\", \"Direct communication\",\n",
    "               \"Team collaboration\", \"Cross-functional projects\", \"Departmental connection\"]\n",
    "\n",
    "raw_topics_q39 = \"\"\"\n",
    "Workload: Work-Life Balance\n",
    "Hybrid/Remote Model: Flexible Future Model, Hybrid Work Challenges, Home Office Setup Support, Traffic and Commute, Remote Work Stipends \n",
    "In-Person/On-site Collaboration: In-Person Collaboration, Team Days Onsite, In-Person Meetings\n",
    "Technology: Remote Work Tools, Technology Upgrades, Meeting Technology Issues, Meeting Room Tech Reliability, Office Technology Consistency, Workplace Technology Consistency\n",
    "Office Design/Management: Private Workspaces, Office Space Availability, Personalized Work Environment, Office Design, Office Amenities, Meeting Room Availability, \n",
    "Meeting Frequency: Meeting Effectiveness, \n",
    "Productivity: Productivity Tools, Staff Training on Productivity, Heads Down Work,\n",
    "Collaboration: Team Connection Days, Teamwork and Collaboration\n",
    "Culture/Values: Cultural Connection,\n",
    "Training/Development: Professional Development\n",
    "Management: Leadership Visibility, Staff Accountability, Team Building, Team Coordination, Team Connection, Defined Goals and Expectations, Communication: Cross-Functional Communication, Clear Communication Channels, Communication Tools, Communication Channels\n",
    "Engagement: Staff Engagement, \n",
    "Cultural Events: Cornerstone Events, Cultural Events\n",
    "Benefits: On-Site Childcare Options\n",
    "*Safety: Workplace Safety\n",
    "\"\"\"\n",
    "\n",
    "list_topics_q39 = [\"Work-Life Balance\", \n",
    "                   \"Flexible Future Model\", \"Hybrid Work Challenges\", \"Home Office Setup Support\", \"Traffic and Commute\", \"Remote Work Stipends\",\n",
    "                   \"In-Person Collaboration\", \"Team Days Onsite\", \"In-Person Meetings\",\n",
    "                   \"Remote Work Tools\", \"Technology Upgrades\", \"Meeting Technology Issues\", \"Meeting Room Tech Reliability\", \"Office Technology Consistency\", \"Workplace Technology Consistency\",\n",
    "                   \"Private Workspaces\", \"Office Space Availability\", \"Personalized Work Environment\", \"Office Design\", \"Office Amenities\", \"Meeting Room Availability\",\n",
    "                   \"Meeting Effectiveness\",\n",
    "                   \"Productivity Tools\", \"Staff Training on Productivity\", \"Heads Down Work\",\n",
    "                   \"Team Connection Days\", \"Teamwork and Collaboration\",\n",
    "                   \"Cultural Connection\",\n",
    "                   \"Professional Development\",\n",
    "                   \"Leadership Visibility\", \"Staff Accountability\", \"Team Building\", \"Team Coordination\", \"Team Connection\", \"Defined Goals and Expectations\", \"Cross-Functional Communication\", \"Clear Communication Channels\", \"Communication Tools\", \"Communication Channels\",\n",
    "                   \"Staff Engagement\",\n",
    "                   \"Cornerstone Events\", \"Cultural Events\",\n",
    "                   \"On-Site Childcare Options\",\n",
    "                   \"Workplace Safety\"]\n"
   ]
  },
  {
   "cell_type": "code",
   "execution_count": null,
   "metadata": {},
   "outputs": [],
   "source": [
    "topics_list ={\n",
    "    \n",
    "    'Q06' : [\"Hybrid work model\", \"Lack of face-to-face time\", \"Virtual connection\", 'In-person connection',\n",
    "               \"Age diversity\", \"Diversity and inclusion\", \"Diversity in leadership\", \"Inclusivity initiatives\", \"Cultural differences\", \"Bias awareness\",\n",
    "               \"Mentorship programs\", \"Learning circles\", \"Career development\", \"Professional growth\", \"Leadership development\", \"Professional relationships\", \"Training opportunities\", \"Personal growth opportunities\",\n",
    "               \"Company culture\", \"Feedback culture\", \"Family-oriented culture\", \"Cultural fit\", \"Alignment with values\", \"Company values\", \"Traditional family emphasis\", \"Corporate purpose\", \"Open door culture\", \"Collaborative work culture\", \"Cathy family influence\", \"Sense of belonging\",\n",
    "               \"Employee well-being\", \"Work-life balance\", \"Employee empowerment\", \"Employee engagement\", \"Recognition\", \"Recognition practices\",\n",
    "               \"Peer relationships\", \"Peer support\", \"Peer interaction\", \"Team interaction\",\n",
    "               \"Team retreats\", \"Social activities\", \"In-person events\", \"Cultural cornerstone events\",\n",
    "               \"Supervisory communication\", \"Departmental communication\", \"Direct communication\",\n",
    "               \"Team collaboration\", \"Cross-functional projects\", \"Departmental connection\"],\n",
    "    'Q39' : [\"Cathy Family Leadership\", \"Biblical Principles\", \"Culture of Care\", \"Generosity and Giving\", \"Corporate Purpose\", \"Prayer and Devotion\", \"Positive Workplace Culture\", \"Purpose-Driven Work\", \"Culture of Hospitality\", \"Volunteerism and Philanthropy\", \"Brand Reputation\", \"Caring Company Reputation\", \"Positive Work Environment\",\n",
    "                \"Ethical Business Practices\", \"Sustainability Efforts\",\n",
    "                \"Cultural Ambassadorship\", \"Cultural Cornerstone Events\",\n",
    "                \"DEI Initiatives\", \"Inclusive Workforce\",\n",
    "                \"Employee Well-being\", \"Employee Benefits\", \"Employee Engagement\", \"Recognition and Rewards\", \"Work-Life Balance\", \"Team Member Recognition\", \"Team Member Support\", \"Health and Wellness Programs\", \"Operator Support\",\n",
    "                \"Team Member Development\", \"Professional Development\", \"Professional Growth\", \"Leadership Development\", \"Staff Development Opportunities\",\n",
    "                \"Community Service\",\n",
    "                \"Remote Work Support\", \"Flexible Work Environment\",\n",
    "                \"Customer Care Initiatives\", \"Customer Service Excellence\", \"Customer Feedback\", \"Growth and Adaptation\", \"Continuous Improvement\", \"Innovation and Growth\", \"Cultural Adaptation\", \"Cultural Drift Concerns\",\n",
    "                \"Employee Feedback Mechanisms\", \"Transparent Communication\",\n",
    "                \"Purpose-Driven Hiring\",\n",
    "                \"Employee Onboarding Experience\",\n",
    "                \"Team Collaboration\", \"Collaborative Culture\",\n",
    "                \"Strategic Priorities\", \"Strategic Decision Making\", \"Scholarship Programs\",\n",
    "                \"Servant Leadership\", \"Caring Leadership\", \"Stewardship of Resources\"],\n",
    "    'Q40' : [\"DE&I Initiatives\",\n",
    "              \"Remote Work, Flexible Futures Model\",\n",
    "              \"Staff Onboarding\", \"Essentials Program\",\n",
    "              \"Cathy Family Involvement\", \"Truett's Legacy\",\n",
    "              \"Core Values\", \"Corporate Purpose\", \"Cultural Reinforcement\", \"Cultural Consistency\", \"Biblical Principles\", \"Purpose-Driven Work\", \"Cultural Storytelling\", \"Cultural Cornerstones\", \"Staff Accountability\",\n",
    "              \"Cultural Celebrations\", \"Cultural Events\", \"Cultural Cornerstone Events\", \"Cultural Ambassadors\", \"Cultural Adaptation\", \"Founder's Day\", \"Staff Summit\", \"NEXT\",\n",
    "              \"Cultural Fit\", \"Hiring Practices\", \"Cultural Training\", \"Talent Selection\",\n",
    "              \"Team Member Support\", \"Staff Care\", \"Team Member Care\", \"Employee Well-being\", \"Work-Life Balance\", \"Employee Empowerment\", \"Employee Recognition\", \"Team Retreats\", \"Employee Benefits\",\n",
    "              \"Community Service\", \"Community Engagement\", \"Staff-Community Engagement\",\n",
    "              \"Employee Feedback\", \"Employee Development\", \"Mentorship Programs\", \"Leadership Development\", \"Team Development\", \"Accountability & Feedback\", \"Recognition Programs\", \"Personal Connection Opportunities\", \"Professional Development\",\n",
    "              \"Transparent Communication\", \"Transparency in Decision Making\",\n",
    "              \"Customer Focus\", \"Customer Experience\",\n",
    "              \"Operator Engagement\", \"Staff-Operator Connection\"]\n",
    "}"
   ]
  },
  {
   "cell_type": "markdown",
   "metadata": {},
   "source": [
    "### Perform the Classification"
   ]
  },
  {
   "cell_type": "code",
   "execution_count": null,
   "metadata": {},
   "outputs": [],
   "source": [
    "classified_dfs = {}"
   ]
  },
  {
   "cell_type": "code",
   "execution_count": null,
   "metadata": {},
   "outputs": [],
   "source": [
    "start_time = time.time()\n",
    "start_cost = get_running_cost()\n",
    "\n",
    "for question in cols:\n",
    "    q_time = time.time()\n",
    "    q_cost = get_running_cost()\n",
    "    print(f'\\n\\nQuestion {question}')\n",
    "    \n",
    "    \n",
    "    df = input_df.loc[:,['NAID', question]].dropna().reset_index(drop=True)\n",
    "    \n",
    "    print(f'Number of Verbatims: {df.shape[0]}')\n",
    "    print('---------------------------------')\n",
    "    \n",
    "    context = q_context[question]\n",
    "    topics = sorted(cols[question])\n",
    "    \n",
    "    raw_labels: pd.DataFrame = df.apply(lambda row: multiclassifyVerbatim(client, row[question], topics= topics, \n",
    "                                                                        context=context, \n",
    "                                                                        id=row['NAID'], i=row.name, max_labels=3, n_resp = 1), axis=1)\n",
    "    \n",
    "    raw_labels_df = pd.concat(raw_labels.to_list(), ignore_index=True).rename(columns={'ID': 'NAID'})\n",
    "\n",
    "    classified_dfs[question] = pd.merge(df, raw_labels_df)\n",
    "    classified_dfs[question].to_pickle(f'Output/Pickles/Topics_Classified_{question}_{date}.pkl')\n",
    "    \n",
    "    print('---------------------------------')\n",
    "    print(f'Question {question} took {time.time() - q_time:.2f} seconds')\n",
    "    print(f'Cost of Question {question}: ${get_running_cost() - q_cost:.2f}')\n",
    "\n",
    "\n",
    "print(f'\\n\\n\\nTotal Time: {time.time() - start_time:.2f} seconds')\n",
    "print(f'Total Cost: ${get_running_cost() - start_cost:.2f}')"
   ]
  },
  {
   "cell_type": "code",
   "execution_count": null,
   "metadata": {},
   "outputs": [],
   "source": [
    "# ldate = '2024-02-15'\n",
    "# for question in cols + ['Q02a_Agree', 'Q02a_Disagree', 'Q04a_Agree', 'Q04a_Disagree', 'Q07a_Agree', 'Q07a_Disagree', 'Q09a_Agree', 'Q09a_Disagree', 'Q15_Paycheck', 'Q15_Passion', 'Q15_Neutral']:\n",
    "#     staff_classified_dfs[question] = pd.read_pickle(f'Output/Pickles/Staff_Topics_Classified_{question}_{ldate}.pkl')"
   ]
  },
  {
   "cell_type": "code",
   "execution_count": null,
   "metadata": {},
   "outputs": [],
   "source": [
    "write_to_excel(f'Output/Labels/Topics_Classified_{date}.xlsx', classified_dfs, topics_list)"
   ]
  },
  {
   "cell_type": "markdown",
   "metadata": {},
   "source": [
    "## Perform Classification with Defintions"
   ]
  },
  {
   "cell_type": "code",
   "execution_count": 1,
   "metadata": {},
   "outputs": [],
   "source": [
    "topics_defs_dict = {\n",
    "    'Q5a' :  {\n",
    "        'Accurate, Reliable, and Unbiased Performance' :  'The accuracy, reliability, and fairness of the models in performing tasks without bias.',\n",
    "        'Advanced AI/Machine Learning Features' :  'The provider and or model is a sophisticated AI and has advanced machine learning capabilities',\n",
    "        'Advanced Natural Language Processing' :  'The model has advanced NLP capabilities, including summarization, reasoning, content generation, explanation, complex understanding, etc',\n",
    "        'Advanced Risk Management' :  \"The model and or provider manages risks effectively\",\n",
    "        'Automated Content Generation' :  \"The model is good at automatically generating content, such as text or code\",\n",
    "        'Cloud-Based Solutions' :  'Benefits associated with using the Cloud',\n",
    "        'Extensive Documentation' :  'There is detailed documentation for the models.',\n",
    "        'Cost Reduction' :  'The model reduces costs',\n",
    "        'Cost-Effective Solutions and Deployment' :  'The model is affordable and provides economic efficiency in usage and or deployment',\n",
    "        'Customizable and Flexible' :  \"The model is flexibile and customizable\",\n",
    "        'Easy Integration' :  \"The model can be easily integrated with the respondent's existing systems and software\",\n",
    "        'Efficient Data Analysis and Management' :  \"The model has capabilities in handling and analyzing datasets efficiently\",\n",
    "        'Enhanced Customer Support' :  'The model enhances customer support services, including through automation',\n",
    "        'Enhanced Data Security and Compliance' :  'The model and or provider has robust security and compliance standards',\n",
    "        'Enhanced Marketing and Communication' :  'The models improve marketing efforts and communication strategies',\n",
    "        'Existing Relationship with Provider' :  'The respondent has previously or is currently using products by the provider',\n",
    "        'Familiarity with the Provider/Model' :  'The respondent is familiar with the provider and or models, or has used them before.',\n",
    "        'Fit and Relevance to Needs' :  'The model and or provider fits the needs of the respondent or is relevant to their business. The model has relevant features and capabilities.',\n",
    "        'High-Performance Computing' :  \"The model is capable to perform high-level computing tasks, managing complex calculations and data processing efficiently.\",\n",
    "        'Improve Business Intelligence and Analytics' :  ' The enhancement of business intelligence and analytics capabilities through the use of advanced models.',\n",
    "        'Improved Developer and Programming Efficiency' :  \"The model contributes to enhancing the efficiency of developers and programmers through automation and advanced tools.\",\n",
    "        'Improved Operational Efficiency' :  'The model contributes to streamlining operations and improving overall efficiency.',\n",
    "        'Industry-Specific Applications' :  \"The model has applicability and customization to the specific industries of the respondent\",\n",
    "        'Innovative' :  'The model and or provider is innovative',\n",
    "        'Multi-Language Support' :  \"The model can support multiple languages\",\n",
    "        'Open-Source Availability' :  'The model is in an open-source format and is available for public use',\n",
    "        'Provider Customer Support' :  'The provider has good customer support services',\n",
    "        'Real-Time Processing and Rapid Updates' :  'The model is very fast and can process real-time data',\n",
    "        'Scalability' :  \"Model has ability to scale according to the needs of the business\",\n",
    "        'Supports Multimedia Data' :  \"Ability to handle and process multimedia data, including text, images, and videos.\",\n",
    "        'Trusted Brand Reputation and Market Leader' :  'The provider has a strong market presence,  trusted reputation, or is a market leader.',\n",
    "        'User-Friendly Interface and Management' :  'Ease of use and intuitive interfaces of the models or platforms',\n",
    "        'Wide Applicability' :  'Broad applicability of the models across various tasks and industries.',\n",
    "        'Widespread Adoption and Popularity' : 'The model is widely adopted and recognized for it\\' popularity in the market'\n",
    "        },\n",
    "    \n",
    "    'Q5b': \n",
    "        {\n",
    "        'Bad Past Experience with Provider' : 'There has been a bad past experience with the AI provider.',\n",
    "        'Current Provider Meets Needs' : 'The current AI provider meets the needs, so switching is unnecessary.',\n",
    "        'Difficult to Integrate' : 'There are difficulties in integrating the AI solution with existing systems and workflows.',\n",
    "        'Difficult to Manage' : 'The AI model is difficult to manage effectively.',\n",
    "        'Difficult to Use' : 'The AI model is not user-friendly or easy to use, including difficulty to train.',\n",
    "        'Handles Large Data Poorly' : 'The AI model handles large data sets poorly.',\n",
    "        'Hardware Requirements' : 'The AI model requires significant computational resources, which is seen as a limitation.',\n",
    "        'High Cost' : 'There is concern about the high cost of using the AI model or service.',\n",
    "        'Inaccurate Performance' : 'There is concern about the performance accuracy of the AI model.',\n",
    "        'Inferior Model' : 'The AI model is considered inferior to other available models, including performance or being too small',\n",
    "        'Irrelevant Features' : 'The AI model has features that are not relevant or useful.',\n",
    "        'Irrelevant for Business' : 'The AI model is not relevant or suitable for the respondent\\'s business needs.',\n",
    "        'Lack of Customization' : 'It is challenging to customize the AI model to meet specific needs.',\n",
    "        'Lack of Familiarity/Relationship with Provider' : 'The respondent is not familiar with the AI model or provider, or does not have a relationship with them',\n",
    "        'Lack of Innovation' : 'There is a lack of innovation or advancement in the AI model.',\n",
    "        'Lacks Advanced Capabilities' : 'There is a lack of advanced capabilities in the AI model such as summarization, content generation, explanation, complex understanding.',\n",
    "        'Lacks Strategic Direction' : 'The AI model lacks strategic direction or clear guidance.',\n",
    "        'No Multi-Language Support' : 'The AI model offers limited support for multiple languages, reducing its utility.',\n",
    "        'No Multimedia Support' : 'The AI model lacks support for multimedia content like images, and just handles text data.',\n",
    "        'Not Flexible' : 'The AI model is less versatile or flexible for various applications.',\n",
    "        'Not Industry Specific' : 'The AI model is designed for a specific industry, limiting its broader applicability.',\n",
    "        'Not Open Source' : 'The AI model is not open source, limiting its accessibility.',\n",
    "        'Not Scalable' : 'The AI model has scalability issues.',\n",
    "        'Not Widely Recognized': 'The AI model is not widely recognized or used in mainstream AI research.',\n",
    "        'Nothing Wrong' : 'There is no specific issue or concern with the AI model or provider, including having never used it before or not currently using it.',\n",
    "        'Poor Customer Support' : 'The customer support from the AI provider is inadequate.',\n",
    "        'Provider Has Bad Reputation' : 'There are concerns about the reputation of the AI provider.',\n",
    "        'Provider Not a Leader in AI' : 'The provider is not widely recognized or used in mainstream AI research.',\n",
    "        'Security and Ethics Concerns' : 'There are ethical and safety concerns related to the use of the AI model.',\n",
    "        'Slow Performance': 'There is concern about the slow performance or responsiveness of the AI model.',\n",
    "        }\n",
    "        }"
   ]
  },
  {
   "cell_type": "code",
   "execution_count": null,
   "metadata": {},
   "outputs": [],
   "source": [
    "c_w_defs = {}"
   ]
  },
  {
   "cell_type": "code",
   "execution_count": null,
   "metadata": {},
   "outputs": [],
   "source": [
    "start_time = time.time()\n",
    "start_cost = get_running_cost()\n",
    "\n",
    "for question in cols[:1]:\n",
    "    q_time = time.time()\n",
    "    q_cost = get_running_cost()\n",
    "    print(f'\\n\\nQuestion {question}')\n",
    "    \n",
    "    \n",
    "    df = input_df.loc[:,['NAID', question]].dropna().reset_index(drop=True)\n",
    "    \n",
    "    print(f'Number of Verbatims: {df.shape[0]}')\n",
    "    print('---------------------------------')\n",
    "    \n",
    "    context = q_context[question] \n",
    "    # if question == 'Q5a':\n",
    "        # context += + \"Note that anything referencing a capability of an LLM model such as 'reasoning ability', 'summarizing', 'understanding' should include the classification as 'Advanced LLM Capabilities'.\"\n",
    "    topics = topics_defs_dict[question]\n",
    "    print(topics)\n",
    "    \n",
    "    raw_labels: pd.DataFrame = df.apply(lambda row: multiclassifyVerbatimwDefs(client, row[question], topics= topics, \n",
    "                                                                        context=context, \n",
    "                                                                        id=row['NAID'], model = \"gpt-4-0125-preview\", i=row.name, max_labels=3, n_resp = 1), axis=1)\n",
    "    \n",
    "    raw_labels_df = pd.concat(raw_labels.to_list(), ignore_index=True).rename(columns={'ID': 'NAID'})\n",
    "\n",
    "    c_w_defs[question] = pd.merge(df, raw_labels_df)\n",
    "    c_w_defs[question].to_pickle(f'Output/Pickles/Topics_Classified_{question}_{date}.pkl')\n",
    "    \n",
    "    print('---------------------------------')\n",
    "    print(f'Question {question} took {time.time() - q_time:.2f} seconds')\n",
    "    print(f'Cost of Question {question}: ${get_running_cost() - q_cost:.2f}')\n",
    "\n",
    "\n",
    "print(f'\\n\\n\\nTotal Time: {time.time() - start_time:.2f} seconds')\n",
    "print(f'Total Cost: ${get_running_cost() - start_cost:.2f}')"
   ]
  },
  {
   "cell_type": "code",
   "execution_count": null,
   "metadata": {},
   "outputs": [],
   "source": [
    "write_to_excel(f'Output/Labels/Topics_Classified_w_Defs_{date}.xlsx', c_w_defs, {key: list(topics_defs_dict[key].keys()) for key in topics_defs_dict.keys()})"
   ]
  }
 ],
 "metadata": {
  "kernelspec": {
   "display_name": "Python 3",
   "language": "python",
   "name": "python3"
  },
  "language_info": {
   "codemirror_mode": {
    "name": "ipython",
    "version": 3
   },
   "file_extension": ".py",
   "mimetype": "text/x-python",
   "name": "python",
   "nbconvert_exporter": "python",
   "pygments_lexer": "ipython3",
   "version": "3.9.13"
  }
 },
 "nbformat": 4,
 "nbformat_minor": 2
}
